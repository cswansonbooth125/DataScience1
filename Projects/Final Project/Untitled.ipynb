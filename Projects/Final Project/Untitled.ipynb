{
 "cells": [
  {
   "cell_type": "code",
   "execution_count": 2,
   "id": "b1329dd4",
   "metadata": {},
   "outputs": [],
   "source": [
    "import pandas as pd\n",
    "import seaborn as sns"
   ]
  },
  {
   "cell_type": "code",
   "execution_count": 7,
   "id": "67ec5fc6",
   "metadata": {},
   "outputs": [
    {
     "name": "stdout",
     "output_type": "stream",
     "text": [
      "<class 'pandas.core.frame.DataFrame'>\n",
      "RangeIndex: 500 entries, 0 to 499\n",
      "Data columns (total 6 columns):\n",
      " #   Column    Non-Null Count  Dtype \n",
      "---  ------    --------------  ----- \n",
      " 0   Number    500 non-null    int64 \n",
      " 1   Year      500 non-null    int64 \n",
      " 2   Album     500 non-null    object\n",
      " 3   Artist    500 non-null    object\n",
      " 4   Genre     500 non-null    object\n",
      " 5   Subgenre  471 non-null    object\n",
      "dtypes: int64(2), object(4)\n",
      "memory usage: 23.6+ KB\n"
     ]
    }
   ],
   "source": [
    "df = pd.read_csv(\"albumlist.csv\", encoding = \"latin-1\")\n",
    "df.info()"
   ]
  },
  {
   "cell_type": "code",
   "execution_count": 6,
   "id": "12165b7e",
   "metadata": {},
   "outputs": [
    {
     "data": {
      "text/html": [
       "<div>\n",
       "<style scoped>\n",
       "    .dataframe tbody tr th:only-of-type {\n",
       "        vertical-align: middle;\n",
       "    }\n",
       "\n",
       "    .dataframe tbody tr th {\n",
       "        vertical-align: top;\n",
       "    }\n",
       "\n",
       "    .dataframe thead th {\n",
       "        text-align: right;\n",
       "    }\n",
       "</style>\n",
       "<table border=\"1\" class=\"dataframe\">\n",
       "  <thead>\n",
       "    <tr style=\"text-align: right;\">\n",
       "      <th></th>\n",
       "      <th>Number</th>\n",
       "      <th>Year</th>\n",
       "      <th>Album</th>\n",
       "      <th>Artist</th>\n",
       "      <th>Genre</th>\n",
       "      <th>Subgenre</th>\n",
       "      <th>Primary Genre</th>\n",
       "    </tr>\n",
       "  </thead>\n",
       "  <tbody>\n",
       "    <tr>\n",
       "      <th>0</th>\n",
       "      <td>1</td>\n",
       "      <td>1967</td>\n",
       "      <td>Sgt. Pepper's Lonely Hearts Club Band</td>\n",
       "      <td>The Beatles</td>\n",
       "      <td>Rock</td>\n",
       "      <td>Rock &amp; Roll, Psychedelic Rock</td>\n",
       "      <td>Rock</td>\n",
       "    </tr>\n",
       "    <tr>\n",
       "      <th>1</th>\n",
       "      <td>2</td>\n",
       "      <td>1966</td>\n",
       "      <td>Pet Sounds</td>\n",
       "      <td>The Beach Boys</td>\n",
       "      <td>Rock</td>\n",
       "      <td>Pop Rock, Psychedelic Rock</td>\n",
       "      <td>Rock</td>\n",
       "    </tr>\n",
       "    <tr>\n",
       "      <th>2</th>\n",
       "      <td>3</td>\n",
       "      <td>1966</td>\n",
       "      <td>Revolver</td>\n",
       "      <td>The Beatles</td>\n",
       "      <td>Rock</td>\n",
       "      <td>Psychedelic Rock, Pop Rock</td>\n",
       "      <td>Rock</td>\n",
       "    </tr>\n",
       "    <tr>\n",
       "      <th>3</th>\n",
       "      <td>4</td>\n",
       "      <td>1965</td>\n",
       "      <td>Highway 61 Revisited</td>\n",
       "      <td>Bob Dylan</td>\n",
       "      <td>Rock</td>\n",
       "      <td>Folk Rock, Blues Rock</td>\n",
       "      <td>Rock</td>\n",
       "    </tr>\n",
       "    <tr>\n",
       "      <th>4</th>\n",
       "      <td>5</td>\n",
       "      <td>1965</td>\n",
       "      <td>Rubber Soul</td>\n",
       "      <td>The Beatles</td>\n",
       "      <td>Rock, Pop</td>\n",
       "      <td>Pop Rock</td>\n",
       "      <td>Rock</td>\n",
       "    </tr>\n",
       "  </tbody>\n",
       "</table>\n",
       "</div>"
      ],
      "text/plain": [
       "   Number  Year                                  Album          Artist  \\\n",
       "0       1  1967  Sgt. Pepper's Lonely Hearts Club Band     The Beatles   \n",
       "1       2  1966                             Pet Sounds  The Beach Boys   \n",
       "2       3  1966                               Revolver     The Beatles   \n",
       "3       4  1965                   Highway 61 Revisited       Bob Dylan   \n",
       "4       5  1965                            Rubber Soul     The Beatles   \n",
       "\n",
       "       Genre                       Subgenre Primary Genre  \n",
       "0       Rock  Rock & Roll, Psychedelic Rock          Rock  \n",
       "1       Rock     Pop Rock, Psychedelic Rock          Rock  \n",
       "2       Rock     Psychedelic Rock, Pop Rock          Rock  \n",
       "3       Rock          Folk Rock, Blues Rock          Rock  \n",
       "4  Rock, Pop                       Pop Rock          Rock  "
      ]
     },
     "execution_count": 6,
     "metadata": {},
     "output_type": "execute_result"
    }
   ],
   "source": [
    "arr = []\n",
    "\n",
    "for genre in df[\"Genre\"]:\n",
    "    newGenres = genre.split(\", \")\n",
    "    arr.append(newGenres[0])\n",
    "    \n",
    "df[\"Primary Genre\"] = arr\n",
    "\n",
    "df.head()"
   ]
  },
  {
   "cell_type": "code",
   "execution_count": 8,
   "id": "68ba0cf3",
   "metadata": {},
   "outputs": [
    {
     "data": {
      "text/plain": [
       "<Axes: xlabel='Primary Genre', ylabel='count'>"
      ]
     },
     "execution_count": 8,
     "metadata": {},
     "output_type": "execute_result"
    },
    {
     "data": {
      "image/png": "[encoded data removed]",
      "text/plain": [
       "<Figure size 640x480 with 1 Axes>"
      ]
     },
     "metadata": {},
     "output_type": "display_data"
    }
   ],
   "source": [
    "sns.countplot(data=df, x=\"Primary Genre\")"
   ]
  },
  {
   "cell_type": "code",
   "execution_count": null,
   "id": "1c6162ed",
   "metadata": {},
   "outputs": [],
   "source": []
  }
 ],
 "metadata": {
  "kernelspec": {
   "display_name": "Python 3 (ipykernel)",
   "language": "python",
   "name": "python3"
  },
  "language_info": {
   "codemirror_mode": {
    "name": "ipython",
    "version": 3
   },
   "file_extension": ".py",
   "mimetype": "text/x-python",
   "name": "python",
   "nbconvert_exporter": "python",
   "pygments_lexer": "ipython3",
   "version": "3.11.5"
  }
 },
 "nbformat": 4,
 "nbformat_minor": 5
}
