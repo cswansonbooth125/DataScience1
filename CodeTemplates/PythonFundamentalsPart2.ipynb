{
 "cells": [
  {
   "cell_type": "code",
   "execution_count": 28,
   "id": "ecb4fe25",
   "metadata": {},
   "outputs": [],
   "source": [
    "columnData = {\n",
    "    \"Name\": [\"Edward Teach\", \"Anne Bonny\", \"John Rackham\", \n",
    "             \"Cheung Po Tsai\", \"Grace O'Malley\", \"Mary Read\",\n",
    "             \"Sayyidda al Hurra\", \"Zheng Yi Sao\", \"Francis Drake\",\n",
    "             \"Jean Lafitte\"],\n",
    "    \"Years Active\": [[1716, 1718], [1718, 1720], [1718, 1720], [1798, 1810],\n",
    "                     [1564, 1595], [1708, 1721], [1515, 1545], [1801, 1810],\n",
    "                     [1563, 1596], [1810, 1823]],\n",
    "    \"Sailed\": [\"Caribbean\", \"Caribbean\", \"Caribbean\", \"South China Sea\",\n",
    "               \"British Isles\", \"Caribbean\", \"Mediterranean\", \"South China Sea\",\n",
    "               \"Caribbean\", \"Gulf of Mexico\"],\n",
    "    \"Alias\": [\"Blackbeard\", \"\", \"Calico Jack\", \"The Kid\", \"Queen of Ireland\",\n",
    "              \"Mark\", \"Hakimat Titwan\", \"Ching Shih\", \"Sir Francis Drake\",\n",
    "              \"Terror of the Gulf\"]\n",
    "}\n",
    "\n",
    "rowData = {\n",
    "    \"Edward Teach\": [[1716, 1718], \"Caribbean\", \"Blackbeard\"],\n",
    "    \"Anne Bonny\": [[1718, 1720], \"Caribbean\", \"\"],\n",
    "    \"John Rackham\": [[1718, 1720], \"Caribbean\", \"Calico Jack\"],\n",
    "    \"Cheung Po Tsai\": [[1798, 1810], \"South China Sea\", \"The Kid\"],\n",
    "    \"Grace O'Malley\": [[1564, 1595], \"British Isles\", \"Queen of Ireland\"],\n",
    "    \"Mary Read\": [[1708, 1721], \"Caribbean\", \"Mark\"],\n",
    "    \"Sayyida al Hurra\": [[1515, 1545], \"Mediterranean\", \"Hakimat Titwan\"],\n",
    "    \"Zheng Yi Sao\": [[1801, 1810], \"South China Sea\", \"Ching Shih\"],\n",
    "    \"Francis Drake\": [[1563, 1596], \"Caribbean\", \"Sir Francis Drake\"],\n",
    "    \"Jean Lafitte\": [[1810, 1823], \"Gulf of Mexico\", \"Terror of the Gulf\"]\n",
    "}"
   ]
  },
  {
   "cell_type": "code",
   "execution_count": 23,
   "id": "4a5b3dca",
   "metadata": {},
   "outputs": [
    {
     "name": "stdout",
     "output_type": "stream",
     "text": [
      "5\n"
     ]
    }
   ],
   "source": [
    "#Challenge 1 with column data\n",
    "count = 0\n",
    "for i in columnData[\"Years Active\"]:\n",
    "    if (i[0] > 1700 and i[0] < 1800) or (i[1] > 1700 and i[1] < 1800):\n",
    "        count +=1\n",
    "print(count)"
   ]
  },
  {
   "cell_type": "code",
   "execution_count": 22,
   "id": "450191a9",
   "metadata": {},
   "outputs": [
    {
     "name": "stdout",
     "output_type": "stream",
     "text": [
      "4\n"
     ]
    }
   ],
   "source": [
    "#Challenge 1 with row data\n",
    "count = 0\n",
    "for i in rowData:\n",
    "    if (rowData[i][0][0] > 1700 or rowData[i][0][0] < 1800) and (rowData[i][0][1] > 1700 and rowData[i][0][1] < 1800):\n",
    "        count += 1\n",
    "print(count)"
   ]
  },
  {
   "cell_type": "code",
   "execution_count": 21,
   "id": "639840a1",
   "metadata": {},
   "outputs": [
    {
     "name": "stdout",
     "output_type": "stream",
     "text": [
      "Francis Drake\n"
     ]
    }
   ],
   "source": [
    "#Challenge 2 with column data\n",
    "longestCarrer = 0\n",
    "longestCarrerIndex = 0\n",
    "longestName = \"\"\n",
    "currrentIndex = 0\n",
    "\n",
    "for years in columnData[\"Years Active\"]:\n",
    "    \n",
    "    if years[1]-years[0] > longestCarrer:\n",
    "        \n",
    "        longestCarrer = years[1]-years[0]\n",
    "        longestCarrerIndex = index\n",
    "        longestName = columnData[\"Name\"][currrentIndex]\n",
    "        \n",
    "    currrentIndex += 1\n",
    "    \n",
    "print(longestName)\n",
    "        "
   ]
  },
  {
   "cell_type": "code",
   "execution_count": 24,
   "id": "bd5899b5",
   "metadata": {},
   "outputs": [
    {
     "name": "stdout",
     "output_type": "stream",
     "text": [
      "Francis Drake\n"
     ]
    }
   ],
   "source": [
    "#Challenge 2 with row data\n",
    "longestCarrer = 0\n",
    "longestName = \"\"\n",
    "for pirate in rowData:\n",
    "    if rowData[pirate][0][1] - rowData[pirate][0][0] > longestCarrer:\n",
    "        longestCarrer = rowData[pirate][0][1] - rowData[pirate][0][0]\n",
    "        longestName = pirate\n",
    "print(longestName)"
   ]
  },
  {
   "cell_type": "code",
   "execution_count": 25,
   "id": "1b522872",
   "metadata": {},
   "outputs": [
    {
     "name": "stdout",
     "output_type": "stream",
     "text": [
      "14.7\n"
     ]
    }
   ],
   "source": [
    "#Challenge 3 with column data\n",
    "yearSum = 0\n",
    "pirateCount = 10\n",
    "\n",
    "for years in columnData[\"Years Active\"]:\n",
    "    yearSum += years[1] - years[0]\n",
    "    \n",
    "average = yearSum/pirateCount\n",
    "    \n",
    "print(average)"
   ]
  },
  {
   "cell_type": "code",
   "execution_count": 26,
   "id": "d8077830",
   "metadata": {},
   "outputs": [
    {
     "name": "stdout",
     "output_type": "stream",
     "text": [
      "14.7\n"
     ]
    }
   ],
   "source": [
    "#Challenge 3 with row data\n",
    "yearSum = 0\n",
    "pirateCount = 10\n",
    "for name in rowData:\n",
    "    yearSum += rowData[name][0][1] - rowData[name][0][0]\n",
    "    \n",
    "average = yearSum/pirateCount\n",
    "print(average)"
   ]
  },
  {
   "cell_type": "code",
   "execution_count": 31,
   "id": "eda79403",
   "metadata": {},
   "outputs": [
    {
     "name": "stdout",
     "output_type": "stream",
     "text": [
      "{'Name': ['Edward Teach', 'Anne Bonny', 'John Rackham', 'Cheung Po Tsai', \"Grace O'Malley\", 'Mary Read', 'Sayyidda al Hurra', 'Zheng Yi Sao', 'Francis Drake', 'Jean Lafitte'], 'Years Active': [[1716, 1718], [1718, 1720], [1718, 1720], [1798, 1810], [1564, 1595], [1708, 1721], [1515, 1545], [1801, 1810], [1563, 1596], [1810, 1823]], 'Sailed': ['Caribbean', 'Caribbean', 'Caribbean', 'South China Sea', 'British Isles', 'Caribbean', 'Mediterranean', 'South China Sea', 'Caribbean', 'Gulf of Mexico'], 'Alias': ['Blackbeard', '', 'Calico Jack', 'The Kid', 'Queen of Ireland', 'Mark', 'Hakimat Titwan', 'Ching Shih', 'Sir Francis Drake', 'Terror of the Gulf'], 'Sex': ['M', 'F', 'M', 'M', 'F', 'F', 'F', 'F', 'M', 'M'], 'Height': [6.4, 5.6, 5.3, 5.0, 5.1, None, 5.3, 5.5, 6.2], 'Skull and Crossbones': [False, True, True, False, False, True, False, False, False, False], 'Age at Death': [40, 24, 37, 39, 73, 36, 75, 69, 56, 46]}\n"
     ]
    }
   ],
   "source": [
    "mergedData = columnData\n",
    "\n",
    "mergedData2[\"Sex\"] = [\"M\", \"F\", \"M\", \"M\", \"F\", \"F\", \"F\", \"F\", \"M\", \"M\"]\n",
    "mergedData2[\"Height\"] = [6.4, 5.6, 5.3, 5.0, 5.1, None, 5.3, 5.5, 6.2]\n",
    "mergedData2[\"Skull and Crossbones\"] = [False, True, True, False, False, True, False, False, False, False]\n",
    "mergedData2[\"Age at Death\"] = [40, 24, 37, 39, 73, 36, 75, 69, 56, 46]\n",
    "\n",
    "print(mergedData)"
   ]
  },
  {
   "cell_type": "code",
   "execution_count": null,
   "id": "84ae3dc5",
   "metadata": {},
   "outputs": [],
   "source": []
  }
 ],
 "metadata": {
  "kernelspec": {
   "display_name": "Python 3 (ipykernel)",
   "language": "python",
   "name": "python3"
  },
  "language_info": {
   "codemirror_mode": {
    "name": "ipython",
    "version": 3
   },
   "file_extension": ".py",
   "mimetype": "text/x-python",
   "name": "python",
   "nbconvert_exporter": "python",
   "pygments_lexer": "ipython3",
   "version": "3.9.13"
  }
 },
 "nbformat": 4,
 "nbformat_minor": 5
}
